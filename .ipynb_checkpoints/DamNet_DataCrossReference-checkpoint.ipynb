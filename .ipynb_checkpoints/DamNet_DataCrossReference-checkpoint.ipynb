{
 "cells": [
  {
   "cell_type": "code",
   "execution_count": 2,
   "id": "f03fdf61",
   "metadata": {},
   "outputs": [],
   "source": [
    "import pandas as pd\n",
    "import numpy as np\n",
    "import matplotlib.pyplot as plt\n",
    "\n",
    "pd.set_option('display.max_columns',None)"
   ]
  },
  {
   "cell_type": "code",
   "execution_count": 12,
   "id": "2ab3aad5",
   "metadata": {},
   "outputs": [],
   "source": [
    "damnet = pd.read_csv(r'E:/ResSed/MediumResolution_DamLinkages/Manuscript/OutputsDamNet1107/NIDsMappedInBasins_MedRes_final_py.csv')\n",
    "GRanD = pd.read_csv(r\"E:\\ResSed\\MediumResolution_DamLinkages\\Manuscript\\FinalInputFiles\\GRanD_dams_v1_3.csv\")\n",
    "GDAT = pd.read_csv(r\"E:\\ResSed\\MediumResolution_DamLinkages\\Manuscript\\FinalInputFiles\\GDAT_US_crossref.csv\")\n",
    "geodar = pd.read_csv(r\"E:\\ResSed\\MediumResolution_DamLinkages\\Manuscript\\FinalInputFiles\\GeoDAR_crossref.csv\")\n",
    "goodd = pd.read_csv(r\"E:\\ResSed\\MediumResolution_DamLinkages\\Manuscript\\FinalInputFiles\\GOODD2_crossref.csv\")\n",
    "icold = pd.read_csv(r\"E:\\ResSed\\MediumResolution_DamLinkages\\Manuscript\\FinalInputFiles\\iCOLD2023_US_crossref.csv\")\n",
    "\n",
    "NIDs = pd.read_csv('E:/ResSed/MediumResolution_DamLinkages/Manuscript/FinalInputFiles/NID2024.csv', header=1, low_memory=False) \n",
    "\n",
    "\n",
    "#Add fields\n",
    "goodd['IsGOODD'] = 1\n",
    "GDAT['IsGDAT'] = 1\n",
    "geodar['IsGeoDAR'] = 1\n",
    "icold['IsiCOLD'] = 1"
   ]
  },
  {
   "cell_type": "code",
   "execution_count": 13,
   "id": "b06e34fa",
   "metadata": {},
   "outputs": [
    {
     "name": "stdout",
     "output_type": "stream",
     "text": [
      "Size of GOODD: 4606\n",
      "Size of GRanD: 7311\n",
      "Size of GDAT: 6962\n",
      "Size of GeoDAR: 7887\n",
      "Size of iCOLD: 10096\n"
     ]
    }
   ],
   "source": [
    "#Original database sizes (not just CONUS)\n",
    "print('Size of GOODD:',len(goodd))\n",
    "print('Size of GRanD:',len(GRanD))\n",
    "print('Size of GDAT:',len(GDAT))\n",
    "print('Size of GeoDAR:',len(geodar))\n",
    "print('Size of iCOLD:',len(icold))"
   ]
  },
  {
   "cell_type": "code",
   "execution_count": 14,
   "id": "5009b794",
   "metadata": {},
   "outputs": [],
   "source": [
    "#Rename headers\n",
    "goodd.rename(columns = {'DAM_ID':'GOODD2_DAM_ID'}, inplace=True)\n",
    "GDAT.rename(columns = {'Feature_ID':'GDAT_Feature_ID'}, inplace = True)\n",
    "geodar.rename(columns = {'id_v11':'GeoDAR_id_v11'},inplace=True)\n"
   ]
  },
  {
   "cell_type": "code",
   "execution_count": 15,
   "id": "b614c5de",
   "metadata": {},
   "outputs": [],
   "source": [
    "#merge datasets\n",
    "dataref = pd.merge(damnet,GRanD,on='NID',how='left')\n",
    "dataref = pd.merge(dataref,GDAT,on='NID',how='left',suffixes = ('dref','GDAT'))\n",
    "dataref = pd.merge(dataref,geodar,on='NID',how='left',suffixes = ('dref2','geodar'))\n",
    "dataref = pd.merge(dataref,goodd,on='NID',how='left',suffixes = ('dref3','goodd'))\n",
    "dataref = pd.merge(dataref,icold,on='NID',how='left',suffixes = ('dref4','icold'))\n",
    "\n",
    "\n",
    "#merge columns\n",
    "dataref.loc[dataref.IsGRanD_x == 1, 'Join_Method'] = 'joined by NID and manual check'\n",
    "dataref.loc[dataref['IsGOODD']==1,'Join_Method'] = dataref['CrossGOOD2']\n",
    "dataref.loc[dataref['IsGeoDAR']==1,'Join_Method'] = dataref['cross_Gdar']\n",
    "dataref.loc[dataref['IsGDAT']==1,'Join_Method'] = dataref['CrossGDAT']\n",
    "dataref.loc[dataref['IsiCOLD']==1,'Join_Method'] = dataref['CrossiCOLD']\n"
   ]
  },
  {
   "cell_type": "code",
   "execution_count": 16,
   "id": "17e60566",
   "metadata": {},
   "outputs": [],
   "source": [
    "#clean dataset to only keep a few columns\n",
    "dataref.rename(columns = {'IsUSBR_x':'IsUSBR','IsUSACE_x':'IsUSACE','IsGRanD_x':'IsGRanD','ShortID_x':'ShortID','GRAND_ID_x':'GRAND_ID'},inplace = True)\n",
    "\n",
    "dataref = dataref[['ShortID','NID','GRAND_ID','GOODD2_DAM_ID','GDAT_Feature_ID','GeoDAR_id_v11','IsGRanD','IsGOODD','IsGDAT','IsGeoDAR','IsiCOLD','IsUSACE','IsUSBR','Join_Method','Confidence']]\n"
   ]
  },
  {
   "cell_type": "code",
   "execution_count": 17,
   "id": "6e461b61",
   "metadata": {},
   "outputs": [
    {
     "data": {
      "text/html": [
       "<div>\n",
       "<style scoped>\n",
       "    .dataframe tbody tr th:only-of-type {\n",
       "        vertical-align: middle;\n",
       "    }\n",
       "\n",
       "    .dataframe tbody tr th {\n",
       "        vertical-align: top;\n",
       "    }\n",
       "\n",
       "    .dataframe thead th {\n",
       "        text-align: right;\n",
       "    }\n",
       "</style>\n",
       "<table border=\"1\" class=\"dataframe\">\n",
       "  <thead>\n",
       "    <tr style=\"text-align: right;\">\n",
       "      <th></th>\n",
       "      <th>ShortID</th>\n",
       "      <th>NID</th>\n",
       "      <th>GRAND_ID</th>\n",
       "      <th>GOODD2_DAM_ID</th>\n",
       "      <th>GDAT_Feature_ID</th>\n",
       "      <th>GeoDAR_id_v11</th>\n",
       "      <th>IsGRanD</th>\n",
       "      <th>IsGOODD</th>\n",
       "      <th>IsGDAT</th>\n",
       "      <th>IsGeoDAR</th>\n",
       "      <th>IsiCOLD</th>\n",
       "      <th>IsUSACE</th>\n",
       "      <th>IsUSBR</th>\n",
       "      <th>Join_Method</th>\n",
       "      <th>Confidence</th>\n",
       "    </tr>\n",
       "  </thead>\n",
       "  <tbody>\n",
       "    <tr>\n",
       "      <th>0</th>\n",
       "      <td>341114.0</td>\n",
       "      <td>NV10487</td>\n",
       "      <td>NaN</td>\n",
       "      <td>NaN</td>\n",
       "      <td>NaN</td>\n",
       "      <td>NaN</td>\n",
       "      <td>0.0</td>\n",
       "      <td>0.0</td>\n",
       "      <td>0.0</td>\n",
       "      <td>0.0</td>\n",
       "      <td>0.0</td>\n",
       "      <td>0.0</td>\n",
       "      <td>0.0</td>\n",
       "      <td>NaN</td>\n",
       "      <td>NaN</td>\n",
       "    </tr>\n",
       "    <tr>\n",
       "      <th>1</th>\n",
       "      <td>289740.0</td>\n",
       "      <td>CA01429</td>\n",
       "      <td>NaN</td>\n",
       "      <td>NaN</td>\n",
       "      <td>NaN</td>\n",
       "      <td>NaN</td>\n",
       "      <td>0.0</td>\n",
       "      <td>0.0</td>\n",
       "      <td>0.0</td>\n",
       "      <td>0.0</td>\n",
       "      <td>0.0</td>\n",
       "      <td>0.0</td>\n",
       "      <td>0.0</td>\n",
       "      <td>NaN</td>\n",
       "      <td>NaN</td>\n",
       "    </tr>\n",
       "    <tr>\n",
       "      <th>2</th>\n",
       "      <td>-1.0</td>\n",
       "      <td>MOUTH_SacR</td>\n",
       "      <td>NaN</td>\n",
       "      <td>NaN</td>\n",
       "      <td>NaN</td>\n",
       "      <td>NaN</td>\n",
       "      <td>0.0</td>\n",
       "      <td>0.0</td>\n",
       "      <td>0.0</td>\n",
       "      <td>0.0</td>\n",
       "      <td>0.0</td>\n",
       "      <td>0.0</td>\n",
       "      <td>0.0</td>\n",
       "      <td>NaN</td>\n",
       "      <td>NaN</td>\n",
       "    </tr>\n",
       "    <tr>\n",
       "      <th>3</th>\n",
       "      <td>-2.0</td>\n",
       "      <td>MOUTH_SJR</td>\n",
       "      <td>NaN</td>\n",
       "      <td>NaN</td>\n",
       "      <td>NaN</td>\n",
       "      <td>NaN</td>\n",
       "      <td>0.0</td>\n",
       "      <td>0.0</td>\n",
       "      <td>0.0</td>\n",
       "      <td>0.0</td>\n",
       "      <td>0.0</td>\n",
       "      <td>0.0</td>\n",
       "      <td>0.0</td>\n",
       "      <td>NaN</td>\n",
       "      <td>NaN</td>\n",
       "    </tr>\n",
       "    <tr>\n",
       "      <th>4</th>\n",
       "      <td>-31.0</td>\n",
       "      <td>MOUTH_Klamath</td>\n",
       "      <td>NaN</td>\n",
       "      <td>NaN</td>\n",
       "      <td>NaN</td>\n",
       "      <td>NaN</td>\n",
       "      <td>0.0</td>\n",
       "      <td>0.0</td>\n",
       "      <td>0.0</td>\n",
       "      <td>0.0</td>\n",
       "      <td>0.0</td>\n",
       "      <td>0.0</td>\n",
       "      <td>0.0</td>\n",
       "      <td>NaN</td>\n",
       "      <td>NaN</td>\n",
       "    </tr>\n",
       "  </tbody>\n",
       "</table>\n",
       "</div>"
      ],
      "text/plain": [
       "    ShortID            NID  GRAND_ID  GOODD2_DAM_ID  GDAT_Feature_ID  \\\n",
       "0  341114.0        NV10487       NaN            NaN              NaN   \n",
       "1  289740.0        CA01429       NaN            NaN              NaN   \n",
       "2      -1.0     MOUTH_SacR       NaN            NaN              NaN   \n",
       "3      -2.0      MOUTH_SJR       NaN            NaN              NaN   \n",
       "4     -31.0  MOUTH_Klamath       NaN            NaN              NaN   \n",
       "\n",
       "   GeoDAR_id_v11  IsGRanD  IsGOODD  IsGDAT  IsGeoDAR  IsiCOLD  IsUSACE  \\\n",
       "0            NaN      0.0      0.0     0.0       0.0      0.0      0.0   \n",
       "1            NaN      0.0      0.0     0.0       0.0      0.0      0.0   \n",
       "2            NaN      0.0      0.0     0.0       0.0      0.0      0.0   \n",
       "3            NaN      0.0      0.0     0.0       0.0      0.0      0.0   \n",
       "4            NaN      0.0      0.0     0.0       0.0      0.0      0.0   \n",
       "\n",
       "   IsUSBR Join_Method Confidence  \n",
       "0     0.0         NaN        NaN  \n",
       "1     0.0         NaN        NaN  \n",
       "2     0.0         NaN        NaN  \n",
       "3     0.0         NaN        NaN  \n",
       "4     0.0         NaN        NaN  "
      ]
     },
     "execution_count": 17,
     "metadata": {},
     "output_type": "execute_result"
    }
   ],
   "source": [
    "dataref['IsGOODD']=dataref['IsGOODD'].fillna(0)\n",
    "dataref['IsGDAT']=dataref['IsGDAT'].fillna(0)\n",
    "dataref['IsGeoDAR']=dataref['IsGeoDAR'].fillna(0)\n",
    "dataref['IsiCOLD']=dataref['IsiCOLD'].fillna(0)\n",
    "\n",
    "dataref.head()"
   ]
  },
  {
   "cell_type": "code",
   "execution_count": 18,
   "id": "3ba205e1",
   "metadata": {},
   "outputs": [],
   "source": [
    "boop = pd.merge(damnet,NIDs,left_on='NID',right_on='NID ID',how='left',indicator=True)\n",
    "boop = boop.drop_duplicates(subset=\"NID\", keep='first')\n"
   ]
  },
  {
   "cell_type": "code",
   "execution_count": 19,
   "id": "40f6947a",
   "metadata": {},
   "outputs": [
    {
     "name": "stdout",
     "output_type": "stream",
     "text": [
      "Number of USACE in DamNet: (451, 15)\n",
      "Number of USBR in DamNet: (257, 15)\n",
      "Number of GRanD in DamNet: (1790, 15)\n",
      "Number of GeoDAR in DamNet: (6635, 15)\n",
      "Number of GOODD in DamNet: (3969, 15)\n",
      "Number of GDAT in DamNet: (5154, 15)\n",
      "Number of iCOLD in DamNet: (7636, 15)\n",
      "Number of NIDs in DamNet: 57222\n",
      "Size of DamNet: 57454\n"
     ]
    }
   ],
   "source": [
    "print('Number of USACE in DamNet:', dataref.loc[dataref.IsUSACE==1].shape)\n",
    "print('Number of USBR in DamNet:', dataref.loc[dataref.IsUSBR==1].shape)\n",
    "print('Number of GRanD in DamNet:', dataref.loc[dataref.IsGRanD==1].shape)\n",
    "print('Number of GeoDAR in DamNet:', dataref.loc[dataref.IsGeoDAR==1].shape)\n",
    "print('Number of GOODD in DamNet:', dataref.loc[dataref.IsGOODD==1].shape)\n",
    "print('Number of GDAT in DamNet:', dataref.loc[dataref.IsGDAT==1].shape)\n",
    "print('Number of iCOLD in DamNet:', dataref.loc[dataref.IsiCOLD==1].shape)\n",
    "print('Number of NIDs in DamNet:', len(boop.loc[boop['_merge'] == 'both']))\n",
    "print('Size of DamNet:',len(dataref))"
   ]
  },
  {
   "cell_type": "code",
   "execution_count": 20,
   "id": "ef959153",
   "metadata": {},
   "outputs": [],
   "source": [
    "#Save cross-reference file\n",
    "dataref.to_csv(r'E:\\ResSed\\MediumResolution_DamLinkages\\Manuscript\\FilesToUpload\\damnet_datacrossreference.csv')"
   ]
  },
  {
   "cell_type": "code",
   "execution_count": null,
   "id": "43b37a23",
   "metadata": {},
   "outputs": [],
   "source": []
  }
 ],
 "metadata": {
  "kernelspec": {
   "display_name": "Python 3 (ipykernel)",
   "language": "python",
   "name": "python3"
  },
  "language_info": {
   "codemirror_mode": {
    "name": "ipython",
    "version": 3
   },
   "file_extension": ".py",
   "mimetype": "text/x-python",
   "name": "python",
   "nbconvert_exporter": "python",
   "pygments_lexer": "ipython3",
   "version": "3.9.18"
  }
 },
 "nbformat": 4,
 "nbformat_minor": 5
}
