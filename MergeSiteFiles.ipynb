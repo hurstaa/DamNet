{
 "cells": [
  {
   "cell_type": "code",
   "execution_count": 3,
   "id": "8a2b07b3",
   "metadata": {},
   "outputs": [],
   "source": [
    "# import packages\n",
    "import pandas as pd\n",
    "import numpy as np\n",
    "\n",
    "pd.set_option('display.max_columns',None)"
   ]
  },
  {
   "cell_type": "code",
   "execution_count": 7,
   "id": "2a20c631",
   "metadata": {},
   "outputs": [],
   "source": [
    "# #load Federal dam data and fix inconsistencies in headers and data types.\n",
    "USBR = pd.read_csv(\"E:/ResSed/MediumResolution_DamLinkages/Reclamation/ReclamationPrediction.csv\")\n",
    "USACE = pd.read_csv(\"E:/ResSed/MediumResolution_DamLinkages/USACE/USACEPrediction.csv\")\n",
    "icold = pd.read_csv(\"E:/ResSed/MediumResolution_DamLinkages/iColdCap.csv\")\n",
    "\n",
    "sites = pd.read_csv('E:/ResSed/MediumResolution_DamLinkages/NewSites2023/AllSites24_snapMedRes_RvrMth_Oct2024.csv')\n",
    "# sites2 = pd.read_csv('D:/ResSed/MediumResolution_DamLinkages/NewSites2023/AllSites23_snapMedRes_RvrMth_June2024.csv')\n",
    "\n",
    "#rename columns and drop ones we don't need.\n",
    "# USBR = USBR.drop(['Lat','Long'],axis = 1)\n",
    "USBR.rename(columns = {'yrc':'Year_Compl_site','yrr':'YrRemoved','GID':'GRanD_ID','SnapX':'Long','SnapY':'Lat','IsGRanD':'SiteIsGRanD','NIDname':'Reservoir','CapM3_p':'Capm3_p','SID':'ShortID'}, inplace = True)\n",
    "\n",
    "sites = sites.drop(['LockDam'],axis=1)\n",
    "sites.rename(columns = {'Year_Compl':'Year_Compl_site','SiteIsGRD':'SiteIsGRanD'},inplace = True)\n",
    "\n",
    "USACE = USACE.drop(['LATITUDE','LONGITUDE','NAVIGATION'],axis=1)\n",
    "USACE.rename(columns = {'PROJECT_ID':'USACE_PROJECT_ID','yrc':'Year_Compl_site','yrr':'YrRemoved','GID':'GRanD_ID','SnapX':'Long','SnapY':'Lat','IsGranD':'SiteIsGRanD','NIDname':'Reservoir','NID_ID':'NID','SID':'ShortID'},inplace=True)\n"
   ]
  },
  {
   "cell_type": "code",
   "execution_count": 8,
   "id": "053f8c43",
   "metadata": {},
   "outputs": [],
   "source": [
    "#combine with sites file.\n",
    "\n",
    "#find matches between sites and USBR; outer join should keep ShortIDs that weren't sites\n",
    "sites_fed = pd.merge(sites, USBR, on='ShortID', how='outer')\n",
    "\n",
    "# Combine columns with suffixes '_x' and '_y' by keeping non-null values\n",
    "for col in sites_fed.columns:\n",
    "    if col.endswith('_x') or col.endswith('_y'):\n",
    "        col_name = col[:-2]  # Remove '_x' or '_y'\n",
    "        if col_name in sites_fed.columns:\n",
    "            # If column already exists, combine values\n",
    "            sites_fed[col_name] = sites_fed[col_name].combine_first(sites_fed[col])\n",
    "        else:\n",
    "            # If column doesn't exist, rename it\n",
    "            sites_fed.rename(columns={col: col_name}, inplace=True)\n",
    "\n",
    "# Drop columns with suffixes '_x' and '_y'\n",
    "sites_fed = sites_fed.drop(columns=[col for col in sites_fed.columns if col.endswith('_x') or col.endswith('_y')])\n",
    "\n",
    "\n",
    "#find matches between sites and USACE; outer join should keep ShortIDs that weren't sites\n",
    "sites_fed = pd.merge(sites_fed, USACE, on='ShortID', how='outer')\n",
    "\n",
    "# Combine columns with suffixes '_x' and '_y' by keeping non-null values\n",
    "for col in sites_fed.columns:\n",
    "    if col.endswith('_x') or col.endswith('_y'):\n",
    "        col_name = col[:-2]  # Remove '_x' or '_y'\n",
    "        if col_name in sites_fed.columns:\n",
    "            # If column already exists, combine values\n",
    "            sites_fed[col_name] = sites_fed[col_name].combine_first(sites_fed[col])\n",
    "        else:\n",
    "            # If column doesn't exist, rename it\n",
    "            sites_fed.rename(columns={col: col_name}, inplace=True)\n",
    "\n",
    "# Drop columns with suffixes '_x' and '_y'\n",
    "sites_fed = sites_fed.drop(columns=[col for col in sites_fed.columns if col.endswith('_x') or col.endswith('_y')])\n",
    "\n",
    "#find matches between iCOLD and USACE; outer join should keep ShortIDs that weren't sites\n",
    "sites_fed = pd.merge(sites_fed, icold, on='NID', how='outer')\n",
    "\n",
    "# Combine columns with suffixes '_x' and '_y' by keeping non-null values\n",
    "for col in sites_fed.columns:\n",
    "    if col.endswith('_x') or col.endswith('_y'):\n",
    "        col_name = col[:-2]  # Remove '_x' or '_y'\n",
    "        if col_name in sites_fed.columns:\n",
    "            # If column already exists, combine values\n",
    "            sites_fed[col_name] = sites_fed[col_name].combine_first(sites_fed[col])\n",
    "        else:\n",
    "            # If column doesn't exist, rename it\n",
    "            sites_fed.rename(columns={col: col_name}, inplace=True)\n",
    "\n",
    "# Drop columns with suffixes '_x' and '_y'\n",
    "sites_fed = sites_fed.drop(columns=[col for col in sites_fed.columns if col.endswith('_x') or col.endswith('_y')])\n",
    "\n",
    "# sites_fed.head()\n"
   ]
  },
  {
   "cell_type": "code",
   "execution_count": 9,
   "id": "f3c14475",
   "metadata": {},
   "outputs": [
    {
     "name": "stdout",
     "output_type": "stream",
     "text": [
      "Number of USBR in database: (257, 31)\n",
      "Number of USACE in database: (465, 31)\n",
      "Number of sites in database: (1066, 31)\n"
     ]
    }
   ],
   "source": [
    "#Replace nans with 0\n",
    "sites_fed.IsSite = sites_fed.IsSite.fillna(0)\n",
    "sites_fed.IsUSBR = sites_fed.IsUSBR.fillna(0)\n",
    "sites_fed.IsUSACE = sites_fed.IsUSACE.fillna(0)\n",
    "sites_fed.delta = sites_fed.delta.fillna(0)\n",
    "sites_fed.IsLock = sites_fed.IsWasLock\n",
    "sites_fed.IsLock = sites_fed.IsLock.fillna(0)\n",
    "sites_fed.IsRiverMth = sites_fed.IsRiverMth.fillna(0)\n",
    "\n",
    "sites_fed.elev_ft = pd.to_numeric(sites_fed.elev_ft, errors='coerce')\n",
    "\n",
    "#Replace -999 with nan\n",
    "sites_fed.elev_ft = sites_fed.elev_ft.replace(-999,np.nan)\n",
    "sites_fed.Capm3_p = sites_fed.Capm3_p.replace(-999,np.nan)\n",
    "sites_fed.CapAF_p = sites_fed.CapAF_p.replace(-999,np.nan)\n",
    "\n",
    "#Fill source for iCOLD as source data\n",
    "sites_fed.loc[(sites_fed.IsSite==0)&(sites_fed.IsUSBR==0)&(sites_fed.IsUSACE==0),'Batch_for'] = 'iCOLD'\n",
    "\n",
    "sites_fed = sites_fed.drop(['GIDnum','IsWasLock','Field'],axis=1)\n",
    "\n",
    "print('Number of USBR in database:',sites_fed.loc[sites_fed.IsUSBR==1].shape)\n",
    "print('Number of USACE in database:',sites_fed.loc[sites_fed.IsUSACE==1].shape)\n",
    "print('Number of sites in database:',sites_fed.loc[sites_fed.IsSite==1].shape)"
   ]
  },
  {
   "cell_type": "code",
   "execution_count": 10,
   "id": "dc40f36a",
   "metadata": {},
   "outputs": [],
   "source": [
    "sites_fed.to_csv('E:/ResSed/MediumResolution_DamLinkages/sites_fed.csv')\n",
    "# sites.to_csv('D:/ResSed/MediumResolution_DamLinkages/NewSites2023/AllSites23_snapMedRes_RvrMth_July2024.csv')\n",
    "# USACE.to_csv('D:/ResSed/MediumResolution_DamLinkages/USACE/USACE_Prediction_AAH.csv')\n",
    "# USBR.to_csv('D:/ResSed/MediumResolution_DamLinkages/Reclamation/Reclamation_Prediction_AAH.csv')"
   ]
  },
  {
   "cell_type": "code",
   "execution_count": null,
   "id": "382b9733",
   "metadata": {},
   "outputs": [],
   "source": []
  }
 ],
 "metadata": {
  "kernelspec": {
   "display_name": "Python 3 (ipykernel)",
   "language": "python",
   "name": "python3"
  },
  "language_info": {
   "codemirror_mode": {
    "name": "ipython",
    "version": 3
   },
   "file_extension": ".py",
   "mimetype": "text/x-python",
   "name": "python",
   "nbconvert_exporter": "python",
   "pygments_lexer": "ipython3",
   "version": "3.9.18"
  }
 },
 "nbformat": 4,
 "nbformat_minor": 5
}
